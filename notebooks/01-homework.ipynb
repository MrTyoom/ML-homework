{
 "cells": [
  {
   "cell_type": "markdown",
   "metadata": {
    "id": "EugYe2AVTJnB"
   },
   "source": [
    "# Домашнее задание\n",
    "\n",
    "Установить Anaconda и Git. Создать репозиторий на GitHub.\n",
    "\n",
    "## Easy (+0.1)\n",
    "`\n",
    "Написать функцию, которая на вход принимает список, а возвращает словарь со среднием, медианой и модой, например вот такой: `{\"mean\": ..., \"median\": ..., \"mode\": ...}`."
   ]
  },
  {
   "cell_type": "markdown",
   "metadata": {
    "id": "EugYe2AVTJnB"
   },
   "source": [
    "Пример:\n",
    "\n",
    "```python\n",
    "\n",
    "func([0, 1, 1, 10, 5, 4, 3])\n",
    "\n",
    "# Должно вернуть: {\"mean\": 3.4285, \"median\": 3, \"mode\": 1}\n",
    "\n",
    "```"
   ]
  },
  {
   "cell_type": "code",
   "execution_count": 5,
   "metadata": {},
   "outputs": [
    {
     "name": "stdout",
     "output_type": "stream",
     "text": [
      "{'mean': 3.4285714285714284, 'median': 3, 'mode': 1}\n"
     ]
    }
   ],
   "source": [
    "def func(lst: list) -> dict:\n",
    "    median_cnt = sorted(lst)[len(lst) // 2] if len(lst) % 2 else sum(\n",
    "        sorted(lst)[len(lst) // 2: (len(lst) // 2) + 2]) / 2\n",
    "    num_cnt = max(lst, key=lambda x: lst.count(x))\n",
    "    return {\"mean\": sum(lst) / len(lst), \"median\": median_cnt, \"mode\": num_cnt}\n",
    "\n",
    "print(func([0, 1, 1, 10, 5, 4, 3]))"
   ]
  },
  {
   "cell_type": "markdown",
   "metadata": {
    "id": "EugYe2AVTJnB"
   },
   "source": [
    "## Medium (+0.4)\n",
    "\n",
    "https://www.kaggle.com/datasets/databanditofficial/dota-hero-stats\n",
    "\n",
    "Написать функцию, которая будет парсить csv-файл dota_hero_stats.csv\n",
    "\n",
    "Сигнатура функции:\n",
    "\n",
    "```\n",
    "def parse_csv(file_content: str) -> List[Dict]\n",
    "```\n",
    "\n",
    "Найти персонажа с максимальным количеством ног (сторонние библиотеки использовать нельзя)"
   ]
  },
  {
   "cell_type": "code",
   "execution_count": 4,
   "metadata": {},
   "outputs": [
    {
     "name": "stdout",
     "output_type": "stream",
     "text": [
      "Broodmother\n"
     ]
    }
   ],
   "source": [
    "from typing import List, Dict\n",
    "\n",
    "with open('data/dota_hero_stats.csv', 'r', encoding='utf-8') as file:\n",
    "    file_content = file.read()\n",
    "\n",
    "\n",
    "def parse_csv(file_content: str) -> List[Dict]:\n",
    "    file_content = file_content.strip().split('\\n')\n",
    "    res = []\n",
    "    keys = [key for key in file_content[0].split(',')]\n",
    "    for line in file_content[1:]:\n",
    "        roles = [i.strip(' \"[]\\\\\\'') for i in line.split(',')[7:]]\n",
    "        res.append({key: val for key, val in zip(keys, line.split(',')[:7] + [roles])})\n",
    "    return res\n",
    "\n",
    "\n",
    "def num_legs(file: List[Dict]) -> str:\n",
    "    return max(file, key=lambda x: x['legs'])['localized_name']\n",
    "\n",
    "\n",
    "print(num_legs(parse_csv(file_content)))"
   ]
  },
  {
   "cell_type": "markdown",
   "metadata": {
    "id": "EugYe2AVTJnB"
   },
   "source": [
    "## Hard (+ в карму)\n",
    "\n",
    "Придумать меру близости между двумя персонажами, описать текстом, реализовать кодом. Мера должна использовать все содержательные колонки: attack_type, legs, primary_attr, roles\n",
    "\n",
    "Найти двух персонажей, которые наиболее близки друг к другу.\n",
    "\n",
    "Также нельзя использовать сторонние библиотеки.\n",
    "\n",
    "\n",
    "## Байка\n",
    "\n",
    "В реально жизни, конечно, уже написаны парсеры для основных форматов данных, но кто вам гарантирует, что ваши данные будут в нужном формате? Нужно уметь парсить разные странные форматы данных.\n",
    "\n",
    "Когда-то я работал в компании, которая не умела в DWH и хранила все данные в продовых базах. Ну, \"базах\". Это были терабайты xml-файлов, поверх которых была настроена репликация и прод умел быстро по ним искать. Конечно же, эти xml-файлы были неструктурированы, пришлось освоить специальный язык для индексации по xml-файлам - xpath - чтобы привести данные в хоть сколько-то табличный вид. Парсер имел отвратительный код, а данные на выходе были еще хуже. А через пару месяцев я уволился оттуда и дальше проект не полетел (надеюсь, это независимые события). Какой вывод? Держите данные в DWH в понятном и удобном формате и не храните данные в проде в xml."
   ]
  }
 ],
 "metadata": {
  "colab": {
   "provenance": []
  },
  "kernelspec": {
   "display_name": "Python 3 (ipykernel)",
   "language": "python",
   "name": "python3"
  },
  "language_info": {
   "codemirror_mode": {
    "name": "ipython",
    "version": 3
   },
   "file_extension": ".py",
   "mimetype": "text/x-python",
   "name": "python",
   "nbconvert_exporter": "python",
   "pygments_lexer": "ipython3",
   "version": "3.10.6"
  }
 },
 "nbformat": 4,
 "nbformat_minor": 4
}
